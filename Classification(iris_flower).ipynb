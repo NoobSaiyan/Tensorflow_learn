{
  "nbformat": 4,
  "nbformat_minor": 0,
  "metadata": {
    "colab": {
      "name": "Classification(iris_flower).ipynb",
      "provenance": [],
      "authorship_tag": "ABX9TyPIqEdeFHX/12jWwSV8XOW3",
      "include_colab_link": true
    },
    "kernelspec": {
      "name": "python3",
      "display_name": "Python 3"
    }
  },
  "cells": [
    {
      "cell_type": "markdown",
      "metadata": {
        "id": "view-in-github",
        "colab_type": "text"
      },
      "source": [
        "<a href=\"https://colab.research.google.com/github/NoobSaiyan/Tensorflow_learn/blob/master/Classification(iris_flower).ipynb\" target=\"_parent\"><img src=\"https://colab.research.google.com/assets/colab-badge.svg\" alt=\"Open In Colab\"/></a>"
      ]
    },
    {
      "cell_type": "code",
      "metadata": {
        "id": "nZzuu9r8CG97",
        "colab_type": "code",
        "colab": {}
      },
      "source": [
        "%tensorflow_version 2.x "
      ],
      "execution_count": 1,
      "outputs": []
    },
    {
      "cell_type": "code",
      "metadata": {
        "id": "ixpDqo90Dd5x",
        "colab_type": "code",
        "colab": {}
      },
      "source": [
        "from __future__ import absolute_import, division, print_function, unicode_literals\n",
        "\n",
        "\n",
        "import tensorflow as tf\n",
        "\n",
        "import pandas as pd"
      ],
      "execution_count": 2,
      "outputs": []
    },
    {
      "cell_type": "code",
      "metadata": {
        "id": "gqnxqCjsDmtB",
        "colab_type": "code",
        "colab": {
          "base_uri": "https://localhost:8080/",
          "height": 104
        },
        "outputId": "eac00ca4-5334-496c-ed04-25bf11d28471"
      },
      "source": [
        "CSV_COLUMN_NAMES = ['SepalLength', 'SepalWidth', 'PetalLength', 'PetalWidth', 'Species']\n",
        "SPECIES = ['Setosa', 'Versicolor', 'Virginica']\n",
        "\n",
        "train_path = tf.keras.utils.get_file(\n",
        "    \"iris_training.csv\", \"https://storage.googleapis.com/download.tensorflow.org/data/iris_training.csv\")\n",
        "test_path = tf.keras.utils.get_file(\n",
        "    \"iris_test.csv\", \"https://storage.googleapis.com/download.tensorflow.org/data/iris_test.csv\")\n",
        "\n",
        "train = pd.read_csv(train_path, names=CSV_COLUMN_NAMES, header=0)\n",
        "test = pd.read_csv(test_path, names=CSV_COLUMN_NAMES, header=0)"
      ],
      "execution_count": 3,
      "outputs": [
        {
          "output_type": "stream",
          "text": [
            "Downloading data from https://storage.googleapis.com/download.tensorflow.org/data/iris_training.csv\n",
            "\r8192/2194 [================================================================================================================] - 0s 0us/step\n",
            "Downloading data from https://storage.googleapis.com/download.tensorflow.org/data/iris_test.csv\n",
            "8192/573 [============================================================================================================================================================================================================================================================================================================================================================================================================================================] - 0s 0us/step\n"
          ],
          "name": "stdout"
        }
      ]
    },
    {
      "cell_type": "code",
      "metadata": {
        "id": "dCrl4jzBD413",
        "colab_type": "code",
        "colab": {
          "base_uri": "https://localhost:8080/",
          "height": 195
        },
        "outputId": "efb96e9a-86c9-4a0f-8ca4-baad11870963"
      },
      "source": [
        "train_y = train.pop('Species')\n",
        "test_y = test.pop('Species')\n",
        "train.head()"
      ],
      "execution_count": 4,
      "outputs": [
        {
          "output_type": "execute_result",
          "data": {
            "text/html": [
              "<div>\n",
              "<style scoped>\n",
              "    .dataframe tbody tr th:only-of-type {\n",
              "        vertical-align: middle;\n",
              "    }\n",
              "\n",
              "    .dataframe tbody tr th {\n",
              "        vertical-align: top;\n",
              "    }\n",
              "\n",
              "    .dataframe thead th {\n",
              "        text-align: right;\n",
              "    }\n",
              "</style>\n",
              "<table border=\"1\" class=\"dataframe\">\n",
              "  <thead>\n",
              "    <tr style=\"text-align: right;\">\n",
              "      <th></th>\n",
              "      <th>SepalLength</th>\n",
              "      <th>SepalWidth</th>\n",
              "      <th>PetalLength</th>\n",
              "      <th>PetalWidth</th>\n",
              "    </tr>\n",
              "  </thead>\n",
              "  <tbody>\n",
              "    <tr>\n",
              "      <th>0</th>\n",
              "      <td>6.4</td>\n",
              "      <td>2.8</td>\n",
              "      <td>5.6</td>\n",
              "      <td>2.2</td>\n",
              "    </tr>\n",
              "    <tr>\n",
              "      <th>1</th>\n",
              "      <td>5.0</td>\n",
              "      <td>2.3</td>\n",
              "      <td>3.3</td>\n",
              "      <td>1.0</td>\n",
              "    </tr>\n",
              "    <tr>\n",
              "      <th>2</th>\n",
              "      <td>4.9</td>\n",
              "      <td>2.5</td>\n",
              "      <td>4.5</td>\n",
              "      <td>1.7</td>\n",
              "    </tr>\n",
              "    <tr>\n",
              "      <th>3</th>\n",
              "      <td>4.9</td>\n",
              "      <td>3.1</td>\n",
              "      <td>1.5</td>\n",
              "      <td>0.1</td>\n",
              "    </tr>\n",
              "    <tr>\n",
              "      <th>4</th>\n",
              "      <td>5.7</td>\n",
              "      <td>3.8</td>\n",
              "      <td>1.7</td>\n",
              "      <td>0.3</td>\n",
              "    </tr>\n",
              "  </tbody>\n",
              "</table>\n",
              "</div>"
            ],
            "text/plain": [
              "   SepalLength  SepalWidth  PetalLength  PetalWidth\n",
              "0          6.4         2.8          5.6         2.2\n",
              "1          5.0         2.3          3.3         1.0\n",
              "2          4.9         2.5          4.5         1.7\n",
              "3          4.9         3.1          1.5         0.1\n",
              "4          5.7         3.8          1.7         0.3"
            ]
          },
          "metadata": {
            "tags": []
          },
          "execution_count": 4
        }
      ]
    },
    {
      "cell_type": "code",
      "metadata": {
        "id": "24BcGUBWn-va",
        "colab_type": "code",
        "colab": {
          "base_uri": "https://localhost:8080/",
          "height": 54
        },
        "outputId": "1132baf0-e958-41e1-9961-b32112128145"
      },
      "source": [
        "def input_fn(features, labels, training=True, batch_size=256):\n",
        "    # Convert the inputs to a Dataset.\n",
        "    dataset = tf.data.Dataset.from_tensor_slices((dict(features), labels))\n",
        "\n",
        "    # Shuffle and repeat if you are in training mode.\n",
        "    if training:\n",
        "        dataset = dataset.shuffle(1000).repeat()\n",
        "    \n",
        "    return dataset.batch(batch_size)\n",
        "\n",
        "# Feature columns describe how to use the input.\n",
        "my_feature_columns = []\n",
        "for key in train.keys():\n",
        "    my_feature_columns.append(tf.feature_column.numeric_column(key=key))\n",
        "print(my_feature_columns)"
      ],
      "execution_count": 5,
      "outputs": [
        {
          "output_type": "stream",
          "text": [
            "[NumericColumn(key='SepalLength', shape=(1,), default_value=None, dtype=tf.float32, normalizer_fn=None), NumericColumn(key='SepalWidth', shape=(1,), default_value=None, dtype=tf.float32, normalizer_fn=None), NumericColumn(key='PetalLength', shape=(1,), default_value=None, dtype=tf.float32, normalizer_fn=None), NumericColumn(key='PetalWidth', shape=(1,), default_value=None, dtype=tf.float32, normalizer_fn=None)]\n"
          ],
          "name": "stdout"
        }
      ]
    },
    {
      "cell_type": "code",
      "metadata": {
        "id": "ojpDqyaqoP2U",
        "colab_type": "code",
        "colab": {
          "base_uri": "https://localhost:8080/",
          "height": 188
        },
        "outputId": "12d08204-481a-4253-c453-bc185fa3be92"
      },
      "source": [
        "# Build a DNN with 2 hidden layers with 30 and 10 hidden nodes each.\n",
        "classifier = tf.estimator.DNNClassifier(\n",
        "    feature_columns=my_feature_columns,\n",
        "    # Two hidden layers of 30 and 10 nodes respectively.\n",
        "    hidden_units=[30, 10],\n",
        "    # The model must choose between 3 classes.\n",
        "    n_classes=3)"
      ],
      "execution_count": 6,
      "outputs": [
        {
          "output_type": "stream",
          "text": [
            "INFO:tensorflow:Using default config.\n",
            "WARNING:tensorflow:Using temporary folder as model directory: /tmp/tmp8p75__wz\n",
            "INFO:tensorflow:Using config: {'_model_dir': '/tmp/tmp8p75__wz', '_tf_random_seed': None, '_save_summary_steps': 100, '_save_checkpoints_steps': None, '_save_checkpoints_secs': 600, '_session_config': allow_soft_placement: true\n",
            "graph_options {\n",
            "  rewrite_options {\n",
            "    meta_optimizer_iterations: ONE\n",
            "  }\n",
            "}\n",
            ", '_keep_checkpoint_max': 5, '_keep_checkpoint_every_n_hours': 10000, '_log_step_count_steps': 100, '_train_distribute': None, '_device_fn': None, '_protocol': None, '_eval_distribute': None, '_experimental_distribute': None, '_experimental_max_worker_delay_secs': None, '_session_creation_timeout_secs': 7200, '_service': None, '_cluster_spec': ClusterSpec({}), '_task_type': 'worker', '_task_id': 0, '_global_id_in_cluster': 0, '_master': '', '_evaluation_master': '', '_is_chief': True, '_num_ps_replicas': 0, '_num_worker_replicas': 1}\n"
          ],
          "name": "stdout"
        }
      ]
    },
    {
      "cell_type": "code",
      "metadata": {
        "id": "CoQs1M2aoVN5",
        "colab_type": "code",
        "colab": {
          "base_uri": "https://localhost:8080/",
          "height": 1000
        },
        "outputId": "510a223b-25bb-4597-8df8-cf0e95f843cb"
      },
      "source": [
        "classifier.train(\n",
        "    input_fn=lambda: input_fn(train, train_y, training=True),\n",
        "    steps=5000)\n",
        "# We include a lambda to avoid creating an inner function previously"
      ],
      "execution_count": 11,
      "outputs": [
        {
          "output_type": "stream",
          "text": [
            "INFO:tensorflow:Calling model_fn.\n",
            "WARNING:tensorflow:Layer dnn is casting an input tensor from dtype float64 to the layer's dtype of float32, which is new behavior in TensorFlow 2.  The layer has dtype float32 because it's dtype defaults to floatx.\n",
            "\n",
            "If you intended to run this layer in float32, you can safely ignore this warning. If in doubt, this warning is likely only an issue if you are porting a TensorFlow 1.X model to TensorFlow 2.\n",
            "\n",
            "To change all layers to have dtype float64 by default, call `tf.keras.backend.set_floatx('float64')`. To change just this layer, pass dtype='float64' to the layer constructor. If you are the author of this layer, you can disable autocasting by passing autocast=False to the base Layer constructor.\n",
            "\n",
            "INFO:tensorflow:Done calling model_fn.\n",
            "INFO:tensorflow:Create CheckpointSaverHook.\n",
            "INFO:tensorflow:Graph was finalized.\n",
            "INFO:tensorflow:Restoring parameters from /tmp/tmp8p75__wz/model.ckpt-20000\n",
            "INFO:tensorflow:Running local_init_op.\n",
            "INFO:tensorflow:Done running local_init_op.\n",
            "INFO:tensorflow:Calling checkpoint listeners before saving checkpoint 20000...\n",
            "INFO:tensorflow:Saving checkpoints for 20000 into /tmp/tmp8p75__wz/model.ckpt.\n",
            "INFO:tensorflow:Calling checkpoint listeners after saving checkpoint 20000...\n",
            "INFO:tensorflow:loss = 0.3050269, step = 20000\n",
            "INFO:tensorflow:global_step/sec: 451.935\n",
            "INFO:tensorflow:loss = 0.30593908, step = 20100 (0.225 sec)\n",
            "INFO:tensorflow:global_step/sec: 649.235\n",
            "INFO:tensorflow:loss = 0.30863538, step = 20200 (0.154 sec)\n",
            "INFO:tensorflow:global_step/sec: 626.23\n",
            "INFO:tensorflow:loss = 0.3018914, step = 20300 (0.157 sec)\n",
            "INFO:tensorflow:global_step/sec: 665.285\n",
            "INFO:tensorflow:loss = 0.3205173, step = 20400 (0.153 sec)\n",
            "INFO:tensorflow:global_step/sec: 633.188\n",
            "INFO:tensorflow:loss = 0.2921912, step = 20500 (0.157 sec)\n",
            "INFO:tensorflow:global_step/sec: 659.236\n",
            "INFO:tensorflow:loss = 0.30062962, step = 20600 (0.149 sec)\n",
            "INFO:tensorflow:global_step/sec: 640.029\n",
            "INFO:tensorflow:loss = 0.29766834, step = 20700 (0.159 sec)\n",
            "INFO:tensorflow:global_step/sec: 639.785\n",
            "INFO:tensorflow:loss = 0.30419174, step = 20800 (0.155 sec)\n",
            "INFO:tensorflow:global_step/sec: 652.715\n",
            "INFO:tensorflow:loss = 0.30250162, step = 20900 (0.154 sec)\n",
            "INFO:tensorflow:global_step/sec: 638.72\n",
            "INFO:tensorflow:loss = 0.2936719, step = 21000 (0.157 sec)\n",
            "INFO:tensorflow:global_step/sec: 657.305\n",
            "INFO:tensorflow:loss = 0.29864252, step = 21100 (0.150 sec)\n",
            "INFO:tensorflow:global_step/sec: 650.044\n",
            "INFO:tensorflow:loss = 0.30044806, step = 21200 (0.156 sec)\n",
            "INFO:tensorflow:global_step/sec: 657.317\n",
            "INFO:tensorflow:loss = 0.30015847, step = 21300 (0.150 sec)\n",
            "INFO:tensorflow:global_step/sec: 615.361\n",
            "INFO:tensorflow:loss = 0.294483, step = 21400 (0.163 sec)\n",
            "INFO:tensorflow:global_step/sec: 667.968\n",
            "INFO:tensorflow:loss = 0.29213196, step = 21500 (0.149 sec)\n",
            "INFO:tensorflow:global_step/sec: 637.882\n",
            "INFO:tensorflow:loss = 0.2992193, step = 21600 (0.157 sec)\n",
            "INFO:tensorflow:global_step/sec: 660.852\n",
            "INFO:tensorflow:loss = 0.2870653, step = 21700 (0.153 sec)\n",
            "INFO:tensorflow:global_step/sec: 624.416\n",
            "INFO:tensorflow:loss = 0.29028404, step = 21800 (0.158 sec)\n",
            "INFO:tensorflow:global_step/sec: 635.209\n",
            "INFO:tensorflow:loss = 0.28790477, step = 21900 (0.160 sec)\n",
            "INFO:tensorflow:global_step/sec: 659.923\n",
            "INFO:tensorflow:loss = 0.28891328, step = 22000 (0.152 sec)\n",
            "INFO:tensorflow:global_step/sec: 625.925\n",
            "INFO:tensorflow:loss = 0.28996414, step = 22100 (0.160 sec)\n",
            "INFO:tensorflow:global_step/sec: 637.075\n",
            "INFO:tensorflow:loss = 0.28337923, step = 22200 (0.157 sec)\n",
            "INFO:tensorflow:global_step/sec: 646.061\n",
            "INFO:tensorflow:loss = 0.290509, step = 22300 (0.154 sec)\n",
            "INFO:tensorflow:global_step/sec: 639.326\n",
            "INFO:tensorflow:loss = 0.2862544, step = 22400 (0.155 sec)\n",
            "INFO:tensorflow:global_step/sec: 671.624\n",
            "INFO:tensorflow:loss = 0.2717322, step = 22500 (0.149 sec)\n",
            "INFO:tensorflow:global_step/sec: 647.706\n",
            "INFO:tensorflow:loss = 0.2838398, step = 22600 (0.154 sec)\n",
            "INFO:tensorflow:global_step/sec: 643.662\n",
            "INFO:tensorflow:loss = 0.28306982, step = 22700 (0.156 sec)\n",
            "INFO:tensorflow:global_step/sec: 647.342\n",
            "INFO:tensorflow:loss = 0.29146987, step = 22800 (0.157 sec)\n",
            "INFO:tensorflow:global_step/sec: 654.617\n",
            "INFO:tensorflow:loss = 0.2859937, step = 22900 (0.150 sec)\n",
            "INFO:tensorflow:global_step/sec: 629.942\n",
            "INFO:tensorflow:loss = 0.28687632, step = 23000 (0.161 sec)\n",
            "INFO:tensorflow:global_step/sec: 644.283\n",
            "INFO:tensorflow:loss = 0.2815058, step = 23100 (0.153 sec)\n",
            "INFO:tensorflow:global_step/sec: 661.736\n",
            "INFO:tensorflow:loss = 0.28069887, step = 23200 (0.152 sec)\n",
            "INFO:tensorflow:global_step/sec: 658.485\n",
            "INFO:tensorflow:loss = 0.28127688, step = 23300 (0.151 sec)\n",
            "INFO:tensorflow:global_step/sec: 612.936\n",
            "INFO:tensorflow:loss = 0.27401856, step = 23400 (0.164 sec)\n",
            "INFO:tensorflow:global_step/sec: 659.643\n",
            "INFO:tensorflow:loss = 0.27956992, step = 23500 (0.151 sec)\n",
            "INFO:tensorflow:global_step/sec: 636.48\n",
            "INFO:tensorflow:loss = 0.27684337, step = 23600 (0.159 sec)\n",
            "INFO:tensorflow:global_step/sec: 668.217\n",
            "INFO:tensorflow:loss = 0.28517458, step = 23700 (0.150 sec)\n",
            "INFO:tensorflow:global_step/sec: 643.385\n",
            "INFO:tensorflow:loss = 0.28284866, step = 23800 (0.153 sec)\n",
            "INFO:tensorflow:global_step/sec: 657.589\n",
            "INFO:tensorflow:loss = 0.27313775, step = 23900 (0.155 sec)\n",
            "INFO:tensorflow:global_step/sec: 531.533\n",
            "INFO:tensorflow:loss = 0.28413948, step = 24000 (0.188 sec)\n",
            "INFO:tensorflow:global_step/sec: 592.405\n",
            "INFO:tensorflow:loss = 0.28875297, step = 24100 (0.169 sec)\n",
            "INFO:tensorflow:global_step/sec: 604.349\n",
            "INFO:tensorflow:loss = 0.26959947, step = 24200 (0.166 sec)\n",
            "INFO:tensorflow:global_step/sec: 624.71\n",
            "INFO:tensorflow:loss = 0.2704633, step = 24300 (0.159 sec)\n",
            "INFO:tensorflow:global_step/sec: 664.471\n",
            "INFO:tensorflow:loss = 0.26457548, step = 24400 (0.148 sec)\n",
            "INFO:tensorflow:global_step/sec: 635.826\n",
            "INFO:tensorflow:loss = 0.26835138, step = 24500 (0.160 sec)\n",
            "INFO:tensorflow:global_step/sec: 670.057\n",
            "INFO:tensorflow:loss = 0.26441765, step = 24600 (0.150 sec)\n",
            "INFO:tensorflow:global_step/sec: 621.77\n",
            "INFO:tensorflow:loss = 0.26788557, step = 24700 (0.159 sec)\n",
            "INFO:tensorflow:global_step/sec: 658.672\n",
            "INFO:tensorflow:loss = 0.27146003, step = 24800 (0.152 sec)\n",
            "INFO:tensorflow:global_step/sec: 627.83\n",
            "INFO:tensorflow:loss = 0.25917757, step = 24900 (0.158 sec)\n",
            "INFO:tensorflow:Calling checkpoint listeners before saving checkpoint 25000...\n",
            "INFO:tensorflow:Saving checkpoints for 25000 into /tmp/tmp8p75__wz/model.ckpt.\n",
            "WARNING:tensorflow:From /usr/local/lib/python3.6/dist-packages/tensorflow/python/training/saver.py:971: remove_checkpoint (from tensorflow.python.training.checkpoint_management) is deprecated and will be removed in a future version.\n",
            "Instructions for updating:\n",
            "Use standard file APIs to delete files with this prefix.\n",
            "INFO:tensorflow:Calling checkpoint listeners after saving checkpoint 25000...\n",
            "INFO:tensorflow:Loss for final step: 0.25419053.\n"
          ],
          "name": "stdout"
        },
        {
          "output_type": "execute_result",
          "data": {
            "text/plain": [
              "<tensorflow_estimator.python.estimator.canned.dnn.DNNClassifierV2 at 0x7ffac151db70>"
            ]
          },
          "metadata": {
            "tags": []
          },
          "execution_count": 11
        }
      ]
    },
    {
      "cell_type": "code",
      "metadata": {
        "id": "NsSFZD8hozCE",
        "colab_type": "code",
        "colab": {
          "base_uri": "https://localhost:8080/",
          "height": 373
        },
        "outputId": "56285f1d-80b8-41e1-d373-5ab1caa80ee5"
      },
      "source": [
        "eval_result = classifier.evaluate(\n",
        "    input_fn=lambda: input_fn(test, test_y, training=False))\n",
        "\n",
        "print('\\nTest set accuracy: {accuracy:0.3f}\\n'.format(**eval_result))"
      ],
      "execution_count": 12,
      "outputs": [
        {
          "output_type": "stream",
          "text": [
            "INFO:tensorflow:Calling model_fn.\n",
            "WARNING:tensorflow:Layer dnn is casting an input tensor from dtype float64 to the layer's dtype of float32, which is new behavior in TensorFlow 2.  The layer has dtype float32 because it's dtype defaults to floatx.\n",
            "\n",
            "If you intended to run this layer in float32, you can safely ignore this warning. If in doubt, this warning is likely only an issue if you are porting a TensorFlow 1.X model to TensorFlow 2.\n",
            "\n",
            "To change all layers to have dtype float64 by default, call `tf.keras.backend.set_floatx('float64')`. To change just this layer, pass dtype='float64' to the layer constructor. If you are the author of this layer, you can disable autocasting by passing autocast=False to the base Layer constructor.\n",
            "\n",
            "INFO:tensorflow:Done calling model_fn.\n",
            "INFO:tensorflow:Starting evaluation at 2020-08-01T10:48:35Z\n",
            "INFO:tensorflow:Graph was finalized.\n",
            "INFO:tensorflow:Restoring parameters from /tmp/tmp8p75__wz/model.ckpt-25000\n",
            "INFO:tensorflow:Running local_init_op.\n",
            "INFO:tensorflow:Done running local_init_op.\n",
            "INFO:tensorflow:Inference Time : 0.30818s\n",
            "INFO:tensorflow:Finished evaluation at 2020-08-01-10:48:35\n",
            "INFO:tensorflow:Saving dict for global step 25000: accuracy = 0.96666664, average_loss = 0.29940844, global_step = 25000, loss = 0.29940844\n",
            "INFO:tensorflow:Saving 'checkpoint_path' summary for global step 25000: /tmp/tmp8p75__wz/model.ckpt-25000\n",
            "\n",
            "Test set accuracy: 0.967\n",
            "\n"
          ],
          "name": "stdout"
        }
      ]
    },
    {
      "cell_type": "code",
      "metadata": {
        "id": "__MXKEHHo2M9",
        "colab_type": "code",
        "colab": {
          "base_uri": "https://localhost:8080/",
          "height": 286
        },
        "outputId": "9a52f7f4-a69e-4ed9-c41a-4ec6d4fa2488"
      },
      "source": [
        "def input_fn(features, batch_size=256):\n",
        "    # Convert the inputs to a Dataset without labels.\n",
        "    return tf.data.Dataset.from_tensor_slices(dict(features)).batch(batch_size)\n",
        "\n",
        "features = ['SepalLength', 'SepalWidth', 'PetalLength', 'PetalWidth']\n",
        "predict = {}\n",
        "\n",
        "print(\"Please type numeric values as prompted.\")\n",
        "for feature in features:\n",
        "  valid = True\n",
        "  while valid: \n",
        "    val = input(feature + \": \")\n",
        "    if not val.isdigit(): valid = False\n",
        "\n",
        "  predict[feature] = [float(val)]\n",
        "\n",
        "predictions = classifier.predict(input_fn=lambda: input_fn(predict))\n",
        "for pred_dict in predictions:\n",
        "    class_id = pred_dict['class_ids'][0]\n",
        "    probability = pred_dict['probabilities'][class_id]\n",
        "\n",
        "    print('Prediction is \"{}\" ({:.1f}%)'.format(\n",
        "        SPECIES[class_id], 100 * probability))\n"
      ],
      "execution_count": 15,
      "outputs": [
        {
          "output_type": "stream",
          "text": [
            "Please type numeric values as prompted.\n",
            "SepalLength: 5\n",
            "SepalLength: 3\n",
            "SepalLength: 1\n",
            "SepalLength: 1\n",
            "SepalLength: 5.0\n",
            "SepalWidth: 3.0\n",
            "PetalLength: 1.0\n",
            "PetalWidth: 1.0\n",
            "INFO:tensorflow:Calling model_fn.\n",
            "INFO:tensorflow:Done calling model_fn.\n",
            "INFO:tensorflow:Graph was finalized.\n",
            "INFO:tensorflow:Restoring parameters from /tmp/tmp8p75__wz/model.ckpt-25000\n",
            "INFO:tensorflow:Running local_init_op.\n",
            "INFO:tensorflow:Done running local_init_op.\n",
            "Prediction is \"Setosa\" (89.4%)\n"
          ],
          "name": "stdout"
        }
      ]
    }
  ]
}